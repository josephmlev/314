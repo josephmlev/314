{
 "cells": [
  {
   "cell_type": "markdown",
   "metadata": {},
   "source": [
    "# Bernoulli Distribution\n",
    "\n",
    "## Introduction\n",
    "\n",
    "The Bernoulli distribution is our first attempt to connect data to\n",
    "mathematical statistics.  We will learn that mathematical statistics\n",
    "has a deep theory about what exactly produces data.  As with much of\n",
    "mathematics, statistics theorizes that functions are the culprits\n",
    "behind data.\n",
    "\n",
    "To better understand these functions, we introduce early in this\n",
    "course the fact that probability density functions are the theoretical\n",
    "construct behind data and at the same time lead to the sample mean.\n",
    "\n",
    "## Warm Up\n",
    "\n",
    "In this section we begin to see why statistics is broadly applicable.  We do this by better explaining the connection between (named) random variables and we show how random variable's patterns can abstractly explain simple phenomena.  This section ends with the formal logic/calculus that underpins much of the world of statistics, data science, and machine learning today.\n",
    "\n",
    "As a warm up, let's introduce a few new words that will come up repeatedly throughout this course.\n",
    "\n",
    "- **population**: A broad group of nouns, who's characteristics are of interest.  \n",
    "For example, all US adults.\n",
    "- **sample**: A subset of the population.  \n",
    "For example, the adults in this class room.  Random sample are preferred, but less easy to obtain.\n",
    "- **individual/observation**: A single entity from the population/sample, for which a measurement was taken.  \n",
    "For example, a US adult's height.\n",
    "- **parameter**: A characteristic of the population.  \n",
    "For example, the average height of US adults.\n",
    "- **statistic**: Any function of the sampled observations, hence a characteristic of the sample.  \n",
    "For example, the mean height of this class's US adults.\n",
    "- **dataframe**: A two dimensional array that stores data.  Observations are stored in the rows and named variables are stored in the columns.\n",
    "- **probability density function**: A pattern, represented as a function, of a random variable.  \n",
    "For instance, the constant function which is equal to $1/6$ for all its inputs $1,2,3,4,5,6$.\n",
    "- **discrete random variable**: A random variable that can only take on a countable (possibly infinite) number of values.  \n",
    "For example, a Uniform(1,6) random variable representing a die.\n",
    "- **categorical**: A type of variable that represents names or labels, non mathable values.  \n",
    "For instance, eye color.\n",
    "- **level**: The set of values a categorical variable can take on.  \n",
    "For example, brown, blue, green.\n",
    "- **proportion**: A fraction formed as the count of things of interest divided by the total number of things.  \n",
    "For example, the fraction of heads observed in 10 flips of a coin.\n",
    "- **independent**: A probabilistic relationship between observations, where the two observations occurred without relation.  \n",
    "For example, consecutive flips of a coin.\n",
    "- **identically distributed**: Random variables that have the same probability density function (pdf), and same parameters of this pdf, are called identically distributed.  \n",
    "For example, consecutive flips of the same coin.\n",
    "- **likelihood**: A function defined by multiplying together the PDFs associated with the observed random variables."
   ]
  },
  {
   "cell_type": "markdown",
   "metadata": {},
   "source": [
    "## Estimating Proportions\n",
    "\n",
    "### Goal of Statistics"
   ]
  },
  {
   "cell_type": "markdown",
   "metadata": {},
   "source": [
    "Statistics seeks to describe characteristics of a broad group (population) using only a subset of information (sample).  For instance, making statements about all of Chico's graduates would be difficult; we'd first have to find them all and then extract data from each person.  Instead, statistics uses a sample of all graduates to infer characterstics about the population of Chico's graduates.\n",
    "\n",
    "![](../images/srs.png)\n",
    "\n",
    "In proper language, a statistician uses a radom sample to calculate sample statistics which provide estimates of population parameters.  Relative to the image above, the population is depicted on the left, the sample is depicted on the right, and the arrows indicate that we took a simple random sample of individuals (or observations) from the population.  With these data, we make inferences about the population parameters.  The discipline of statistics studies how to properly use data to make best guesses about the population.  To be useful, we must carefully interpret these best guesses.\n",
    "\n",
    "At the mathematical level, we make an association between the population's individuals and random variables.  For instance, a flip of a coin is analogous to a random variable who's outcome is not observed until after the flip.  Characteristics of the population are analogous to parameters that give structure to the functions that describe the associated random variables.  Data is then theoretically generated from the population's probability density function.  The data, thus carrying information about this function, are used to estimate the population parameters.  As the data side is likely to be more tangible, we'll start there."
   ]
  },
  {
   "cell_type": "markdown",
   "metadata": {},
   "source": [
    "## Data"
   ]
  },
  {
   "cell_type": "markdown",
   "metadata": {},
   "source": [
    "Since this class is both a introduction to Python and a statistics course, we'll waste no time introducing code.  Let's load two common data science packages and use them to load and store a dataset as a dataframe.  We'll then plot the data.  For every analysis, big or small, that we perform in this class these steps should be the very first."
   ]
  },
  {
   "cell_type": "code",
   "execution_count": 1,
   "metadata": {},
   "outputs": [],
   "source": [
    "import pandas as pd\n",
    "import numpy as np\n",
    "import bplot as bp"
   ]
  },
  {
   "cell_type": "code",
   "execution_count": 2,
   "metadata": {},
   "outputs": [
    {
     "data": {
      "text/html": [
       "<div>\n",
       "<style scoped>\n",
       "    .dataframe tbody tr th:only-of-type {\n",
       "        vertical-align: middle;\n",
       "    }\n",
       "\n",
       "    .dataframe tbody tr th {\n",
       "        vertical-align: top;\n",
       "    }\n",
       "\n",
       "    .dataframe thead th {\n",
       "        text-align: right;\n",
       "    }\n",
       "</style>\n",
       "<table border=\"1\" class=\"dataframe\">\n",
       "  <thead>\n",
       "    <tr style=\"text-align: right;\">\n",
       "      <th></th>\n",
       "      <th>SuperFamily</th>\n",
       "      <th>Family</th>\n",
       "    </tr>\n",
       "  </thead>\n",
       "  <tbody>\n",
       "    <tr>\n",
       "      <th>6</th>\n",
       "      <td>Caniformia</td>\n",
       "      <td>Canidae</td>\n",
       "    </tr>\n",
       "    <tr>\n",
       "      <th>66</th>\n",
       "      <td>Feliformia</td>\n",
       "      <td>Viverridae</td>\n",
       "    </tr>\n",
       "    <tr>\n",
       "      <th>39</th>\n",
       "      <td>Caniformia</td>\n",
       "      <td>Mustelidae</td>\n",
       "    </tr>\n",
       "    <tr>\n",
       "      <th>64</th>\n",
       "      <td>Feliformia</td>\n",
       "      <td>Viverridae</td>\n",
       "    </tr>\n",
       "    <tr>\n",
       "      <th>75</th>\n",
       "      <td>Feliformia</td>\n",
       "      <td>Viverridae</td>\n",
       "    </tr>\n",
       "    <tr>\n",
       "      <th>28</th>\n",
       "      <td>Caniformia</td>\n",
       "      <td>Mustelidae</td>\n",
       "    </tr>\n",
       "  </tbody>\n",
       "</table>\n",
       "</div>"
      ],
      "text/plain": [
       "   SuperFamily      Family\n",
       "6   Caniformia     Canidae\n",
       "66  Feliformia  Viverridae\n",
       "39  Caniformia  Mustelidae\n",
       "64  Feliformia  Viverridae\n",
       "75  Feliformia  Viverridae\n",
       "28  Caniformia  Mustelidae"
      ]
     },
     "execution_count": 2,
     "metadata": {},
     "output_type": "execute_result"
    }
   ],
   "source": [
    "df = pd.read_csv(\"https://raw.githubusercontent.com/roualdes/data/master/carnivora.csv\")\n",
    "df[['SuperFamily', 'Family']].sample(6)"
   ]
  },
  {
   "cell_type": "code",
   "execution_count": 6,
   "metadata": {},
   "outputs": [
    {
     "data": {
      "text/plain": [
       "<matplotlib.axes._subplots.AxesSubplot at 0x1260d36a0>"
      ]
     },
     "execution_count": 6,
     "metadata": {},
     "output_type": "execute_result"
    },
    {
     "data": {
      "image/png": "[encoded data removed]",
      "text/plain": [
       "<Figure size 432x288 with 1 Axes>"
      ]
     },
     "metadata": {
      "needs_background": "light"
     },
     "output_type": "display_data"
    }
   ],
   "source": [
    "df['SuperFamily_col'] = bp.CatColors(df['SuperFamily'])\n",
    "for name, gdf in df.groupby('SuperFamily'):\n",
    "    bp.point(gdf['BW'], gdf['SB'], label=name, color=gdf['SuperFamily_col'])\n",
    "\n",
    "bp.labels(y='Body Weight (kg)', x='Birth Weight (g)', size=18)\n",
    "bp.legend()"
   ]
  },
  {
   "cell_type": "markdown",
   "metadata": {},
   "source": [
    "If these data are truly a random sample (and we're to believe they are), then the proportions of the colors (not the numbers) depict a population parameter.  Here, $p$ might be the population proportion of animals from the order Carnivora that are in the Super Family Caniformia.  As we don't know what value $p$ takes on, we will estimate it with data.\n",
    "\n",
    "As far as this class is concerned, estimating population parameters from data takes quite a bit of machinery.  The first necessary piece is the (assumed) functional form that represents a proportion.  A common choice for proportions is the Bernoulli distribution.  The Bernoulli distribution will provide us with a function, dependent on some unkown value $p$, from which we collect data and then manipulate to estimate $p$."
   ]
  },
  {
   "cell_type": "markdown",
   "metadata": {},
   "source": [
    "## Bernoulli Distribution"
   ]
  },
  {
   "cell_type": "markdown",
   "metadata": {},
   "source": [
    "The probability density function of the [Bernoulli distribution](https://en.wikipedia.org/wiki/Bernoulli_distribution)\n",
    "\n",
    "$$ f(x | p) = p^x (1 - p)^{1-x} $$\n",
    "\n",
    "for $x \\in \\{0, 1\\}$ and $p \\in [0, 1]$.  Notice that $x$ only takes on a finite set of values.  When a random variable can take on only a countable number of values, it is called a discrete random variable."
   ]
  },
  {
   "cell_type": "code",
   "execution_count": 10,
   "metadata": {},
   "outputs": [
    {
     "data": {
      "text/plain": [
       "<matplotlib.axes._subplots.AxesSubplot at 0x12638c8d0>"
      ]
     },
     "execution_count": 10,
     "metadata": {},
     "output_type": "execute_result"
    },
    {
     "data": {
      "image/png": "[encoded data removed]",
      "text/plain": [
       "<Figure size 432x288 with 1 Axes>"
      ]
     },
     "metadata": {
      "needs_background": "light"
     },
     "output_type": "display_data"
    }
   ],
   "source": [
    "def bernoulli(x, p):\n",
    "    return np.power(p, x) * np.power(1 - p, 1 - x)\n",
    "x = np.asarray([0, 1])\n",
    "p = 0.25\n",
    "\n",
    "df = pd.DataFrame({'x': x, 'f': bernoulli(x, p)})\n",
    "\n",
    "bp.point(df['x'], df['f'])\n",
    "bp.LaTeX()\n",
    "bp.labels(x='$x$', y='$f(x)$', size=18)"
   ]
  },
  {
   "cell_type": "markdown",
   "metadata": {},
   "source": [
    "### Example\n",
    "\n",
    "Since $x$ only ever takes on two values $0$ or $1$, this matches perfectly with our binary categorical variable `SuperFamily`.  The trick is, the levels of the variable `SuperFamily` will correspond to the values that the input $x$ of the Bernoulli random variable can take on, namely $0$ and $1$.  How we map from $\\\\{Canfiromia, Feliformia\\\\}$ to $\\\\{0, 1\\\\}$ is mathematically unimportant, but convention suggests that you are interested in one of the two levels more than the other.\n",
    "\n",
    "Symbollically, we write $X_n \\sim_{iid} \\text{Bernoulli}(p)$ for $n = 1, \\ldots, N$.  The random variables $X_n$ correspond to the sequence $0$s and $1$s that tell us which observations belong to the Super Family Caniformia.  The population parameter $p$ is unwknown, but can be estimated with the data $X_n$.  Notice that for Bernoulli data, the sample (because it's applied to data) mean returns a proportion since at most the sum of $N$ $1$s is $N$."
   ]
  },
  {
   "cell_type": "code",
   "execution_count": 42,
   "metadata": {},
   "outputs": [
    {
     "data": {
      "text/plain": [
       "0.51"
      ]
     },
     "execution_count": 42,
     "metadata": {},
     "output_type": "execute_result"
    }
   ],
   "source": [
    "carnivora = pd.read_csv(\"~/data/carnivora.csv\")\n",
    "phat = np.round(np.mean(carnivora['SuperFamily'] == 'Caniformia'), 2)\n",
    "phat"
   ]
  },
  {
   "cell_type": "markdown",
   "metadata": {},
   "source": [
    "Much of this class involves interpretting statistics such as the one above.  We'd say based on our data, approximately $51$% of the animals in the Order Carnivora are in the Super Family Caniformia.\n",
    "\n",
    "One the one hand, we need to recognize that this proportion is an estimate of the (population) parameter $p$ in the context of our study -- sampled animals, hopefully randomly, from the Super Families Caniformia and Feliformia within a specific geographic region.  On the other hand, since this is a random sample, there's some uncertainty to this estimate.\n",
    "\n",
    "The remainder of this class will focus on two subtle points: how do we \n",
    "\n",
    "1. estimate parameters, and \n",
    "2. quantify the uncertainty in our estimates?\n",
    "\n",
    "The answers (as far as this class is concerned) are the\n",
    "\n",
    "1. likelihood, and\n",
    "2. bootstrap\n",
    "\n",
    "respectively."
   ]
  },
  {
   "cell_type": "markdown",
   "metadata": {},
   "source": [
    "## Likelihood"
   ]
  },
  {
   "cell_type": "markdown",
   "metadata": {},
   "source": [
    "The likelihood function enables estimation of population parameters given a sample of data.  The likelihood function is not the only means for estimating population parameters, but it is the only method we will cover in this class."
   ]
  },
  {
   "cell_type": "markdown",
   "metadata": {},
   "source": [
    "### Definition"
   ]
  },
  {
   "cell_type": "markdown",
   "metadata": {},
   "source": [
    "Given a random sample of independent and identically distributed data, $X_n \\sim_{iid} F(\\theta)$ for $n = 1, \\ldots, N$, the likelihood function is \n",
    "\n",
    "$$ L(\\theta | \\mathbf{X}) = \\prod_{n=1}^N f(x_n | \\theta),$$\n",
    "\n",
    "where $\\mathbf{X}$ is just notation for our random sample of data, $\\theta \\in \\mathbb{R}^d$ denotes the parameter(s) to be estimated, and $f(x\\vert \\theta)$ is the probability density function associated with the distribution $F$.  Given the likelihood function $L$, estimates are produced by finding the value of $\\theta$ that maximizes the likelihood function."
   ]
  },
  {
   "cell_type": "markdown",
   "metadata": {},
   "source": [
    "### Maximum Likelihood Estimators"
   ]
  },
  {
   "cell_type": "markdown",
   "metadata": {},
   "source": [
    "Assume we have data $X_n \\sim_{iid} F(\\theta)$.  The maximum likelihood estimator (MLE) of $\\theta$ is\n",
    "\n",
    "$$ \\hat{\\theta} = argmax_{\\theta} L(\\theta | \\mathbf{X}).$$"
   ]
  },
  {
   "cell_type": "markdown",
   "metadata": {},
   "source": [
    "### Finding MLEs"
   ]
  },
  {
   "cell_type": "markdown",
   "metadata": {},
   "source": [
    "The definitions above are intimidating upon first site.  However, with a breif recap of some algebraic manipulations and a few tips on getting started, finding MLEs can often be reduced down to a rehearsal of maximization/minimization probelems of calculus 1.  Let's start with some quick exercises to refresh our minds of the algebra we'll need to find MLEs.\n",
    "\n",
    "1. How can we rewrite (simplify?) the following equations?\n",
    "    * $\\log{(a \\cdot b)}$?\n",
    "    * $\\log{(x_1 \\cdot x_2)}$?\n",
    "    * $\\log{(x_1 \\cdot x_2 \\cdot \\ldots \\cdot x_n)}$?\n",
    "    * $\\log{(\\prod_{i=1}^n x_i)}$?\n",
    "    * $\\log{(\\prod_{i=1}^n f(x_i))}$?\n",
    "\n",
    "2. How can we rewrite (simplify?) the following equations?\n",
    "    * $\\frac{d}{d \\theta} \\{a \\cdot \\theta + b \\cdot \\theta\\}$?\n",
    "    * $\\frac{d}{d \\theta} \\{x_1 \\cdot \\theta + x_2 \\cdot \\theta\\}$?\n",
    "    * $\\frac{d}{d \\theta} \\{x_1 \\cdot \\theta + \\ldots + x_n \\cdot \\theta\\}$?\n",
    "    * $\\frac{d}{d \\theta} \\{\\sum_{i=1}^n x_i \\cdot \\theta \\}$?\n",
    "\n",
    "3. Evaluate the following expression,\n",
    "\n",
    "$$ \\frac{d}{d \\theta} (x\\cdot \\log{(1-\\theta))}.$$\n",
    "\n",
    "Next, a hint for getting started on maximizing a function with nasty exponents.  It's immensely helpful (to both humans and computers) to work with the natural log of the likelihood function, cleverly named the log-likelihood function\n",
    " \n",
    "\n",
    "$$ \\ell (\\theta|\\mathbf{x}) = \\log{L(\\theta|\\mathbf{x}) = \\sum_{n=1}^N \\log{f(x_n|\\theta)}}. $$\n"
   ]
  },
  {
   "cell_type": "markdown",
   "metadata": {},
   "source": [
    "### Example"
   ]
  },
  {
   "cell_type": "markdown",
   "metadata": {},
   "source": [
    "Consider $X_n \\sim_{iid} \\text{Bernoulli}(p)$ for $n = 1, \\ldots, N$.  Find the MLE of $p$ and call it $\\hat{p}$."
   ]
  }
 ],
 "metadata": {
  "celltoolbar": "Tags",
  "kernelspec": {
   "display_name": "Python 3",
   "language": "python",
   "name": "python3"
  },
  "language_info": {
   "codemirror_mode": {
    "name": "ipython",
    "version": 3
   },
   "file_extension": ".py",
   "mimetype": "text/x-python",
   "name": "python",
   "nbconvert_exporter": "python",
   "pygments_lexer": "ipython3",
   "version": "3.7.3"
  },
  "toc": {
   "base_numbering": 1,
   "nav_menu": {
    "height": "206px",
    "width": "227px"
   },
   "number_sections": true,
   "sideBar": true,
   "skip_h1_title": false,
   "title_cell": "Table of Contents",
   "title_sidebar": "Contents",
   "toc_cell": false,
   "toc_position": {},
   "toc_section_display": true,
   "toc_window_display": false
  }
 },
 "nbformat": 4,
 "nbformat_minor": 2
}
