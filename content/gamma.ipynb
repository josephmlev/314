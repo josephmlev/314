{
 "cells": [
  {
   "cell_type": "markdown",
   "metadata": {},
   "source": [
    "# Gamma Distribution\n",
    "\n",
    "## Introduction\n",
    "\n",
    "In this chapter we'll introduce the Exponential Distribution a one parameter distribution that is a special case of the Gamma distribution and, of course, the Gamma distribution.  The Gamma distribution is used to model random durations of time until a next event.  What each event is, really only depends on the context of the process being modeled.  A general example might be time until the end of the life of someone or something.  The Gamma distribution is also used to model random volumes, e.g. rainfall.\n",
    "\n",
    "## Estimating Parameters\n",
    "\n",
    "Pedagogically, the Exponential and Gamma distributions will provide us insight on the difference between the likelihood estimate of population parameters and estimates of the mean of a random variable.\n",
    "\n",
    "## Exponential Distribution\n",
    "\n",
    "Let $X \\sim \\text{Exponential}(\\beta)$.  Then $X$ has probability density function\n",
    "\n",
    "$$ \\text{exponential}(x | \\beta) = \\beta\\exp{(-\\beta x)} $$\n",
    "\n",
    "for $x \\geq 0$ and $\\beta > 0$.  The parameter $\\beta$ measures the rate at which events occur.  From this, it's easy enough to verify the mean of an exponential random variable is $\\mathbb{E}(X) = 1 / \\beta$ as derived from\n",
    "\n",
    "$$ \\mathbb{E}(X) = \\int_0^{\\infty} x \\, d\\text{ Exponential}(x).$$\n",
    "\n",
    "Consider a random sample that measures days between rain events at the Winnipeg International Airport (Canada), from the R library DAAG {% cite Maindonald:2015 %}.  These data measure the time between rain events, and are thus necessarily positive as the density plot below shows.  The maximum likelihood estimate of the rate parameter is $\\hat{\\beta} = N / \\sum_{n=1}^N X_N$.  The exponential density function with an estimated rate parameter $\\hat{\\beta}$ is drawn over the density plot. "
   ]
  },
  {
   "cell_type": "code",
   "execution_count": 2,
   "metadata": {},
   "outputs": [],
   "source": [
    "import numpy as np\n",
    "import pandas as pd\n",
    "import bplot as bp\n",
    "from scipy.stats import expon as exponential, gamma\n",
    "\n",
    "bp.LaTeX()\n",
    "bp.dpi(300)"
   ]
  },
  {
   "cell_type": "code",
   "execution_count": 2,
   "metadata": {},
   "outputs": [],
   "source": [
    "df = pd.read_csv(\"https://vincentarelbundock.github.io/Rdatasets/csv/DAAG/droughts.csv\")\n",
    "beta = 1 / df['length'].mean()"
   ]
  },
  {
   "cell_type": "code",
   "execution_count": 6,
   "metadata": {},
   "outputs": [
    {
     "data": {
      "text/plain": [
       "<matplotlib.axes._subplots.AxesSubplot at 0x121d9c8d0>"
      ]
     },
     "execution_count": 6,
     "metadata": {},
     "output_type": "execute_result"
    },
    {
     "data": {
      "image/png": "[encoded data removed]",
      "text/plain": [
       "<Figure size 432x288 with 1 Axes>"
      ]
     },
     "metadata": {
      "needs_background": "light"
     },
     "output_type": "display_data"
    }
   ],
   "source": [
    "# true PDF evaluated at estimate of β\n",
    "x = np.linspace(df['length'].min(), df['length'].max(), 101)\n",
    "fx = exponential.pdf(x, scale=1 / beta)\n",
    "bp.curve(x, fx, color='tab:orange')\n",
    "\n",
    "# estimation of the density itself\n",
    "bp.density(df['length'])\n",
    "\n",
    "bp.labels(x='length', y='density', size=18)"
   ]
  },
  {
   "cell_type": "markdown",
   "metadata": {},
   "source": [
    "# Gamma Distribution"
   ]
  },
  {
   "cell_type": "markdown",
   "metadata": {},
   "source": [
    "Let $X \\sim \\text{Gamma}(\\alpha, \\beta)$.  Then $X$ has probability density function\n",
    "\n",
    "$$ \\text{gamma}(x | \\alpha, \\beta) =\n",
    "\\frac{\\beta^{\\alpha}}{\\Gamma(\\alpha)} x^{\\alpha - 1} \\exp{ (-\\beta x) } $$\n",
    "\n",
    "for $x \\geq 0, \\alpha > 0$, and $\\beta > 0$.  Notice that when $\\alpha = 1$, the exponential density function is recovered since the [gamma function](https://en.wikipedia.org/wiki/Gamma_function) evaluated at $1$ is equal to $1$, $\\Gamma(1) = 1$.\n",
    "\n",
    "The Gamma distribution has one parameter more than the exponential distribution.  In general, more parameters in a model will enable better adaption to the data.  Don't read too closely into this though, better adaption to a dataset does not guarantee better predictions.  We'll consider this point more closely later on in the course.\n",
    "\n",
    "The second parameter $\\alpha$ is called the shape parameter.  Because the shape parameter appears inside the gamma function, there is no closed form for the maximum likelihood estimator of $\\alpha$.  Instead of maximizing the likelihood function by hand, we'll use a computer to approximate the parameters that maximize the likelihood function of the Gamma density function.\n",
    "\n",
    "The computer maximized likelihood for the gamma density function applied to the same dataset above gives estimates $\\hat{\\alpha} = 0.472$ and $\\hat{\\beta} = 0.24$.  Below, the gamma density function with $(\\hat{\\alpha}, \\hat{\\beta})$ overlays the density plot for these data.  We see that the Gamma distribution fits these data better than the Exponential distribution.  This happens because the Gamma distribution has one more parameter than the Exponential distribution."
   ]
  },
  {
   "cell_type": "code",
   "execution_count": 8,
   "metadata": {},
   "outputs": [
    {
     "data": {
      "text/plain": [
       "<matplotlib.axes._subplots.AxesSubplot at 0x121e17c88>"
      ]
     },
     "execution_count": 8,
     "metadata": {},
     "output_type": "execute_result"
    },
    {
     "data": {
      "image/png": "[encoded data removed]",
      "text/plain": [
       "<Figure size 432x288 with 1 Axes>"
      ]
     },
     "metadata": {
      "needs_background": "light"
     },
     "output_type": "display_data"
    }
   ],
   "source": [
    "gx = gamma.pdf(x, a=0.472, scale=1 / beta)\n",
    "bp.curve(x, gx, color='tab:orange')\n",
    "\n",
    "# estimate of density itself\n",
    "bp.density(df['length'])\n",
    "\n",
    "bp.labels(x='length', y='density', size=18)"
   ]
  }
 ],
 "metadata": {
  "kernelspec": {
   "display_name": "Python 3",
   "language": "python",
   "name": "python3"
  },
  "language_info": {
   "codemirror_mode": {
    "name": "ipython",
    "version": 3
   },
   "file_extension": ".py",
   "mimetype": "text/x-python",
   "name": "python",
   "nbconvert_exporter": "python",
   "pygments_lexer": "ipython3",
   "version": "3.7.3"
  },
  "toc": {
   "base_numbering": 1,
   "nav_menu": {},
   "number_sections": true,
   "sideBar": true,
   "skip_h1_title": false,
   "title_cell": "Table of Contents",
   "title_sidebar": "Contents",
   "toc_cell": false,
   "toc_position": {},
   "toc_section_display": true,
   "toc_window_display": false
  }
 },
 "nbformat": 4,
 "nbformat_minor": 2
}
