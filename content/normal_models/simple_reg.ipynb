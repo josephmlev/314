{
 "cells": [
  {
   "cell_type": "markdown",
   "metadata": {},
   "source": [
    "# Simple Linear Regression\n",
    "\n",
    "Let's continue with the cars data, but this time let's formally recognize that a car's weight might have some effect on city MPG.  Assume\n",
    "\n",
    "$$ Y_1, \\ldots, Y_N \\sim_{iid} \\text{Normal}(\\mu, \\sigma^2) \\\\\n",
    "\\mu = \\beta_0 + \\beta_1 * weight.$$\n",
    "\n",
    "We again focus on the expected value, not $\\sigma$, but we will start dropping the $\\mathbb{E}(Y)$ notation because it quickly becomes cumbersome and needlessly repetitive.  Notice that this model implicitly states that the expected city MPG depends linearly on a car's weight.\n",
    "\n",
    "The following code reads in the dataset, plots the $\\texttt{mpgCity}$ variable against the $\\texttt{weight}$ data, and calculates an estimate of the population mean dependent on the sampled cars' weights.  Here the estimated expected city MPG is formed by a linear combination of $\\hat{\\beta}_0, \\hat{\\beta}_1$ and $\\texttt{weight}$."
   ]
  },
  {
   "cell_type": "code",
   "execution_count": 1,
   "metadata": {},
   "outputs": [],
   "source": [
    "import numpy as np\n",
    "import pandas as pd\n",
    "import bplot as bp\n",
    "from scipy.optimize import minimize\n",
    "from scipy.stats import norm as normal\n",
    "import patsy\n",
    "\n",
    "cars = pd.read_csv(\"https://raw.githubusercontent.com/roualdes/data/master/cars.csv\")"
   ]
  },
  {
   "cell_type": "code",
   "execution_count": 2,
   "metadata": {},
   "outputs": [
    {
     "data": {
      "text/plain": [
       "<matplotlib.collections.PathCollection at 0x124a35b70>"
      ]
     },
     "execution_count": 2,
     "metadata": {},
     "output_type": "execute_result"
    },
    {
     "data": {
      "image/png": "[encoded data removed]",
      "text/plain": [
       "<Figure size 432x288 with 1 Axes>"
      ]
     },
     "metadata": {
      "needs_background": "light"
     },
     "output_type": "display_data"
    }
   ],
   "source": [
    "bp.scatter(cars['weight'], cars['mpgCity'])"
   ]
  },
  {
   "cell_type": "code",
   "execution_count": 3,
   "metadata": {},
   "outputs": [],
   "source": [
    "def ll(beta, yX):\n",
    "    y = yX[:, 0]\n",
    "    X = yX[:, -2:]\n",
    "    yhat = np.full(y.shape, np.nan)\n",
    "    for r in range(X.shape[0]):\n",
    "        yhat[r] = np.sum(beta * X[r,:])\n",
    "    d = y - yhat\n",
    "    return np.sum(d * d)\n",
    "\n",
    "pX = patsy.dmatrix(\"~ weight\", data=cars)\n",
    "yX = np.c_[cars['mpgCity'].values, np.asarray(pX)]\n",
    "\n",
    "beta_hat = minimize(ll, normal.rvs(size=2), args=(yX))['x']"
   ]
  },
  {
   "cell_type": "markdown",
   "metadata": {},
   "source": [
    "We write the estimated linear model as \n",
    "\n",
    "$$\\hat{\\mu} = \\hat{\\beta}_0 + \\hat{\\beta}_1*weight = 50.14 + -0.01*weight.$$\n",
    "\n",
    "What's nice about this model is that we can easily interpret the parameters $\\hat{\\beta}_0 = 50.14$ and $\\hat{\\beta}_1 = -0.01$.  For instance, $\\hat{\\beta}_0$, better known as an intercept, is an estimate of (the population) city MPG for a car that weighs $0$ pounds.  While this doesn't make sense conceptually, this is the literal interpretation of the estimated intercept in the context of these data.  Notice that there's not data near $\\text{weight} = 0$.  When this is the case, you can generally expect the intercept to not make much sense.\n",
    "\n",
    "The slope, $\\hat{\\beta}_1$, describes the linear relationship between a car's weight and city MPG.  This estimate too is relatively easy to interpret in the context of these data.  For every 1 unit increase in a car's weight (a 1 pound increase), we estimate a $0.01$ decrease in the expected city MPG.  \n",
    "\n",
    "Be careful to not overly interpret these estimates as describing a causal relationship.  Determining causal relationships from non-experimental data is no easy task, and we won't even try to broach this topic in this course.  Peter Norvig, Director of Research at Google, wrote an essay describing many of the difficulties of applied statistics practice surrounding observational data.  His essay [Warning Signs in Experimental Design and Interpretation](http://norvig.com/experiment-design.html) enumerates common warning signs for when a practioner of applied statistics might be misinterpreting their data.  For a more theoretical approach to determining causal relationships from data, see Judea Pearl's book [Causality](http://bayes.cs.ucla.edu/BOOK-2K/)."
   ]
  },
  {
   "cell_type": "markdown",
   "metadata": {},
   "source": [
    "Just like before, the estimates $\\hat{\\beta}_0, \\hat{\\beta}_1$ are simply one set of estimates based on one random sample.  The values we produced could be due to pure random chance.  To better understand our uncertainty in these estimates, we will calculate confidence intervals.  We will let the function $\\texttt{boot::boot}$ do the random sampling for us, and for that we need write a function that accepts our data and a vector of indices."
   ]
  },
  {
   "cell_type": "code",
   "execution_count": 4,
   "metadata": {},
   "outputs": [
    {
     "name": "stderr",
     "output_type": "stream",
     "text": [
      "/Users/ez/venvs/py3/lib/python3.7/site-packages/scipy/optimize/optimize.py:1046: RuntimeWarning: divide by zero encountered in double_scalars\n",
      "  rhok = 1.0 / (numpy.dot(yk, sk))\n",
      "/Users/ez/venvs/py3/lib/python3.7/site-packages/scipy/optimize/optimize.py:1046: RuntimeWarning: divide by zero encountered in double_scalars\n",
      "  rhok = 1.0 / (numpy.dot(yk, sk))\n"
     ]
    }
   ],
   "source": [
    "N = cars['mpgCity'].size\n",
    "R = 999\n",
    "betas = np.full((R, 2), np.nan)\n",
    "\n",
    "for r in range(R):\n",
    "    idx = np.random.choice(N, N)\n",
    "    betas[r, :] = minimize(ll, normal.rvs(size=2), args=(yX[idx, :]))['x']"
   ]
  },
  {
   "cell_type": "code",
   "execution_count": 5,
   "metadata": {},
   "outputs": [],
   "source": [
    "beta_p = np.percentile(betas, [10, 90], axis=0)"
   ]
  },
  {
   "cell_type": "code",
   "execution_count": 6,
   "metadata": {},
   "outputs": [
    {
     "data": {
      "text/plain": [
       "<matplotlib.axes._subplots.AxesSubplot at 0x124fb9710>"
      ]
     },
     "execution_count": 6,
     "metadata": {},
     "output_type": "execute_result"
    },
    {
     "data": {
      "image/png": "[encoded data removed]",
      "text/plain": [
       "<Figure size 432x288 with 2 Axes>"
      ]
     },
     "metadata": {
      "needs_background": "light"
     },
     "output_type": "display_data"
    }
   ],
   "source": [
    "axs = bp.subplots(1, 2)\n",
    "\n",
    "bp.current_axis(axs[0])\n",
    "bp.density(betas[:, 0])\n",
    "bp.percentile_h(betas[:, 0], y=0)\n",
    "bp.rug(beta_p[:, 0])\n",
    "bp.labels(x='Intercept', y='Density')\n",
    "\n",
    "bp.current_axis(axs[1])\n",
    "bp.density(betas[:, 1])\n",
    "bp.percentile_h(betas[:, 1], y=0)\n",
    "bp.rug(beta_p[:, 1])\n",
    "bp.labels(x='Slope', y='Density')\n",
    "\n",
    "bp.tight_layout()"
   ]
  },
  {
   "cell_type": "markdown",
   "metadata": {},
   "source": [
    "The $90\\%$ confidence intervals for $\\beta_0$ and $\\beta_1$ are"
   ]
  },
  {
   "cell_type": "code",
   "execution_count": 7,
   "metadata": {},
   "outputs": [
    {
     "data": {
      "text/plain": [
       "array([[ 4.6007e+01, -1.0000e-02],\n",
       "       [ 5.3851e+01, -8.0000e-03]])"
      ]
     },
     "execution_count": 7,
     "metadata": {},
     "output_type": "execute_result"
    }
   ],
   "source": [
    "np.round(beta_p, 3)"
   ]
  },
  {
   "cell_type": "markdown",
   "metadata": {},
   "source": [
    "Some classes will make a big deal about the slope estimate not including $0$.  There's no doubt such conclusions have some appeal.  However, this too often encourages binary thinking such as, \"is the true population slope equal to zero or isn't it?\"  When a statistic, known as p-value, is smaller than $0.05$ or a confidence interval excludes zero, the common phrase is, statistically significantly different from zero, as if zero or not are the only options.\n",
    "\n",
    "Increasingly, statisticians are warning against such binary decision making; e.g. [\"It’s time to talk about ditching statistical significance\"](https://www.nature.com/articles/d41586-019-00874-8), [\"Moving to a World Beyond 'p < 0.05'\"](https://www.tandfonline.com/doi/full/10.1080/00031305.2019.1583913), or [\"Scientists rise up against statistical significance\"](https://www.nature.com/articles/d41586-019-00857-9).\n",
    "\n",
    "In this class, we'll focus on predictions, understanding uncertainty in our predictions, and making decisions in the face of this uncertainty."
   ]
  },
  {
   "cell_type": "code",
   "execution_count": null,
   "metadata": {},
   "outputs": [],
   "source": []
  }
 ],
 "metadata": {
  "kernelspec": {
   "display_name": "Python 3",
   "language": "python",
   "name": "python3"
  },
  "language_info": {
   "codemirror_mode": {
    "name": "ipython",
    "version": 3
   },
   "file_extension": ".py",
   "mimetype": "text/x-python",
   "name": "python",
   "nbconvert_exporter": "python",
   "pygments_lexer": "ipython3",
   "version": "3.7.3"
  },
  "toc": {
   "base_numbering": 1,
   "nav_menu": {},
   "number_sections": true,
   "sideBar": true,
   "skip_h1_title": false,
   "title_cell": "Table of Contents",
   "title_sidebar": "Contents",
   "toc_cell": false,
   "toc_position": {},
   "toc_section_display": true,
   "toc_window_display": false
  }
 },
 "nbformat": 4,
 "nbformat_minor": 2
}
