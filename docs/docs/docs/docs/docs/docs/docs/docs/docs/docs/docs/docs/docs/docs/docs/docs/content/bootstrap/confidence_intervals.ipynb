{
 "cells": [
  {
   "cell_type": "markdown",
   "metadata": {},
   "source": [
    "# Confidence Intervals\n",
    "\n",
    "In this course, we will rely on a method called the Bootstrap to approximate the sampling distribution of our statistics, insted of relying on the Central Limit Theorem.  The name bootstrap shows up a lot these days, and I'm positive you have used this word to describe something different than what we'll talk about here.  Our Bootstrap has nothing to do with compilers or programming languages, nor CSS libraries.\n",
    "\n",
    "The statistical Bootstrap is a method to approximate the sampling distribution of an arbitrary statistic."
   ]
  }
 ],
 "metadata": {
  "kernelspec": {
   "display_name": "R",
   "language": "R",
   "name": "ir"
  },
  "language_info": {
   "codemirror_mode": "r",
   "file_extension": ".r",
   "mimetype": "text/x-r-source",
   "name": "R",
   "pygments_lexer": "r",
   "version": "3.5.2"
  },
  "toc": {
   "base_numbering": 1,
   "nav_menu": {},
   "number_sections": true,
   "sideBar": true,
   "skip_h1_title": false,
   "title_cell": "Table of Contents",
   "title_sidebar": "Contents",
   "toc_cell": false,
   "toc_position": {},
   "toc_section_display": true,
   "toc_window_display": false
  }
 },
 "nbformat": 4,
 "nbformat_minor": 2
}
