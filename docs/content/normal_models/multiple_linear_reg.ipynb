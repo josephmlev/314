{
 "cells": [
  {
   "cell_type": "markdown",
   "metadata": {},
   "source": [
    "# Multiple Linear Regression\n",
    "\n",
    "Multiple linear regression is the extension of simple linear regression to multiple explanatory variables and picks up means by group along the way.  Hence, multiple linear regression seeks to explain a single, numerical response variable using multiple explanatory variables of different types.\n",
    "\n",
    "It helps to immediately visualize what the combination of multiple explanatory variables of different types adds to simple linear regression.  Consider the dataset $\\texttt{carnivora}$.  We'll fit four different models using body weight $\\texttt{SW}$ as the numerical response variable, birth weight $\\texttt{BW}$ as a numerical explanatory variable, and Super Family as a categorical explanatory variable.  The four models are simple linear regression, multiple linear regression with unique intercepts for the levels of the categorical explanatory variable, multiple linear regression with unique slopes for the levels of the categorical explanatory variable, and multiple linear regression with unique intercepts and unique slopes for the levels of the categorical explanatory variable."
   ]
  },
  {
   "cell_type": "code",
   "execution_count": 1,
   "metadata": {},
   "outputs": [],
   "source": [
    "import numpy as np\n",
    "import pandas as pd\n",
    "import bplot as bp\n",
    "from scipy.optimize import minimize\n",
    "from scipy.stats import norm as normal\n",
    "import patsy\n",
    "\n",
    "bp.LaTeX()"
   ]
  },
  {
   "cell_type": "code",
   "execution_count": 2,
   "metadata": {},
   "outputs": [],
   "source": [
    "carnivora = pd.read_csv(\"https://raw.githubusercontent.com/roualdes/data/master/carnivora.csv\")\n",
    "carn = carnivora[[\"BW\", \"SW\", \"SuperFamily\"]].dropna() # order is important"
   ]
  },
  {
   "cell_type": "markdown",
   "metadata": {},
   "source": [
    "Below is code for *four different models*.  In order, the models specify simple linear regression across birth weight `BW`, unique intercepts with parallel slopes by level of super family, shared intercepts with unique slopes by level of super family, and independent lines (unique intercepts and slopes) by level of super family.\n",
    "\n",
    "Much of the code to fit any one of the four models is not particularly new nor challenging.  The only real difference shows up in Patsy's $\\texttt{dmatrix()}$.  Pay some attention to how Python code alters the model specification.  "
   ]
  },
  {
   "cell_type": "code",
   "execution_count": 3,
   "metadata": {},
   "outputs": [],
   "source": [
    "def predict_normal(beta, X):\n",
    "    N = X.shape[0]\n",
    "    yhat = np.full((N, ), np.nan)\n",
    "    for n in range(N):    \n",
    "        yhat[n] = np.sum(beta * X[n,:])\n",
    "    return yhat\n",
    "\n",
    "def ll_normal(beta, X, y):\n",
    "    yhat = predict_normal(beta, X)\n",
    "    d = y - yhat\n",
    "    return np.sum(d * d)\n",
    "\n",
    "X = patsy.dmatrix(\"~ BW\", data=carn)\n",
    "X_ints = patsy.dmatrix(\"~ C(SuperFamily) + BW\", data=carn)\n",
    "X_slps = patsy.dmatrix(\"~ C(SuperFamily):BW\", data=carn)\n",
    "X_ints_slps = patsy.dmatrix(\"~ C(SuperFamily) + BW + C(SuperFamily):BW\", data=carn)\n",
    "\n",
    "y = carn['SW'].values\n",
    "beta_hat = minimize(ll_normal, normal.rvs(size=2), args=(X, y))[\"x\"]\n",
    "beta_hat_ints = minimize(ll_normal, normal.rvs(size=3), args=(X_ints, y))[\"x\"]\n",
    "beta_hat_slps = minimize(ll_normal, normal.rvs(size=3), args=(X_slps, y))[\"x\"]\n",
    "beta_hat_ints_slps = minimize(ll_normal, normal.rvs(size=4), args=(X_ints_slps, y))[\"x\"]"
   ]
  },
  {
   "cell_type": "code",
   "execution_count": 4,
   "metadata": {},
   "outputs": [
    {
     "data": {
      "text/plain": [
       "<matplotlib.axes._subplots.AxesSubplot at 0x118866898>"
      ]
     },
     "execution_count": 4,
     "metadata": {},
     "output_type": "execute_result"
    },
    {
     "data": {
      "image/png": "[encoded data removed]",
      "text/plain": [
       "<Figure size 432x288 with 4 Axes>"
      ]
     },
     "metadata": {
      "needs_background": "light"
     },
     "output_type": "display_data"
    }
   ],
   "source": [
    "fig, axs = bp.subplots(2, 2, sharex=True, sharey=True)\n",
    "beta_hats = [beta_hat, beta_hat_ints, beta_hat_slps, beta_hat_ints_slps]\n",
    "Xs = [X, X_ints, X_slps, X_ints_slps]\n",
    "titles = ['Simple Linear Regression', 'Unique intercepts', 'Unique Slopes', 'Unique slopes and intercepts']\n",
    "\n",
    "for a, ax in enumerate(fig.axes):\n",
    "    bp.current_axis(ax)\n",
    "    for i, (name, gdf) in enumerate(carn.groupby(\"SuperFamily\")):\n",
    "        x = gdf[\"BW\"]; y = gdf[\"SW\"]; col = bp.color[i]\n",
    "        bp.scatter(x, y, color=col, label=name)\n",
    "        idx = carn[\"SuperFamily\"] == name\n",
    "        yhat = predict_normal(beta_hats[a], Xs[a][idx,:])\n",
    "        bp.line(x, yhat, color=col)\n",
    "        bp.title(titles[a])\n",
    "        if a == 3:\n",
    "            bp.legend(loc='upper center', bbox_to_anchor=(0.5, -0.15), ncol=2)\n",
    "        \n",
    "\n",
    "bp.labels(x=\"\", y=\"Body weight (kg)\", size=18, ax=axs[0][0])\n",
    "bp.labels(x=\"Birth weight (g)\", y=\"\", size=18, ax=axs[1][0])\n",
    "\n",
    "#handles, labels = axs[1][1].get_legend_handles_labels()\n",
    "#fig.legend(handles, labels, loc='upper center')\n",
    "\n",
    "bp.tight_layout()"
   ]
  },
  {
   "cell_type": "markdown",
   "metadata": {},
   "source": [
    "The code above uses the four vectors of estimated coefficients to make a faceted plot, where each panel corresponds to a model.  Each panel is labelled to help you identify what your options are for modeling within the framework of multiple linear regression.\n",
    "\n",
    "Notice that simple linear regression is as expected, just a single line that represents the estimated relationship between birth weight and body weight for animals of the Order Carnivora.  The panel labeled unique intercepts shows multiple linear regression, where the different Super Families share a common slope but have unique intercepts.  The panel labeled unique slopes shows multiple linear regression, where the different Super Families share a common intercept but have unique slopes.  The panel labeled unique slopes and intercepts shows multiple linear regression, where the different Super Families have unique intercepts and unique slopes."
   ]
  }
 ],
 "metadata": {
  "kernelspec": {
   "display_name": "Python 3",
   "language": "python",
   "name": "python3"
  },
  "language_info": {
   "codemirror_mode": {
    "name": "ipython",
    "version": 3
   },
   "file_extension": ".py",
   "mimetype": "text/x-python",
   "name": "python",
   "nbconvert_exporter": "python",
   "pygments_lexer": "ipython3",
   "version": "3.7.3"
  }
 },
 "nbformat": 4,
 "nbformat_minor": 2
}
