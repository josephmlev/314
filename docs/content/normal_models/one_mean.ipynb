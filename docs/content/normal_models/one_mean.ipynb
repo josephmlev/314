{
 "cells": [
  {
   "cell_type": "markdown",
   "metadata": {},
   "source": [
    "# One Mean\n",
    "\n",
    "Consider a dataset about $N = 54$ cars sampled from the year $1993$.  Of interest is the (unknown population) mean miles per gallon, $\\mu$.  We assume \n",
    "\n",
    "$$Y_1, \\ldots, Y_N \\sim_{iid} \\text{Normal}(\\mu, \\sigma^2) \\\\ \\mathbb{E}(Y) = \\mu.$$\n",
    "\n",
    "The parameter $\\sigma$ might be of interest to some, but not us now.  By choosing this model we are implicitly assuming that $\\mathbb{E}(Y) = \\mu$, where $\\mu$ is a constant function that does not depend on any other characteristics about the population of cars from $1993$.  \n",
    "\n",
    "Assuming the mean $\\mu$ is constant is an unrealistic assumption if you think too long about this problem.  Nevertheless, this is a common assumption because of its simplicity.  In situations where simplicity is what you want, assuming the mean $\\mu$ is constant across all cars from $1993$ is fine.  On the other hand, such simplicity is not always desired.  More complex models that relate mean miles per gallon to, say, weight or the drivetrain type are explored in the following sections of this chapter.\n",
    "\n",
    "The following code reads in the dataset, plots the $\\texttt{mpgCity}$ data, and calculates an estimate of the population mean, $\\hat{\\mu}$ based on the observed MPG for each car."
   ]
  },
  {
   "cell_type": "code",
   "execution_count": 5,
   "metadata": {},
   "outputs": [],
   "source": [
    "import numpy as np\n",
    "import pandas as pd\n",
    "import bplot as bp\n",
    "from scipy.optimize import minimize\n",
    "\n",
    "bp.LaTeX()"
   ]
  },
  {
   "cell_type": "code",
   "execution_count": 4,
   "metadata": {},
   "outputs": [],
   "source": [
    "cars = pd.read_csv(\"https://raw.githubusercontent.com/roualdes/data/master/cars.csv\")"
   ]
  },
  {
   "cell_type": "code",
   "execution_count": 7,
   "metadata": {},
   "outputs": [],
   "source": [
    "def ll(mu, y):\n",
    "    d = y - mu\n",
    "    return np.sum(d * d)\n",
    "\n",
    "mu_hat = minimize(ll, 10, args=(cars['mpgCity']), method=\"BFGS\")['x']"
   ]
  },
  {
   "cell_type": "code",
   "execution_count": 8,
   "metadata": {},
   "outputs": [
    {
     "data": {
      "text/plain": [
       "[<matplotlib.lines.Line2D at 0x120ae35c0>]"
      ]
     },
     "execution_count": 8,
     "metadata": {},
     "output_type": "execute_result"
    },
    {
     "data": {
      "image/png": "[encoded data removed]",
      "text/plain": [
       "<Figure size 432x288 with 1 Axes>"
      ]
     },
     "metadata": {
      "needs_background": "light"
     },
     "output_type": "display_data"
    }
   ],
   "source": [
    "bp.density(cars['mpgCity'])\n",
    "bp.rug(mu_hat)"
   ]
  },
  {
   "cell_type": "markdown",
   "metadata": {},
   "source": [
    "The estimate $\\hat{\\mu}$ is our best guess of the population mean city MPG for cars from $1993$.  What we don't yet have is any measure of uncertainty surrounding this best guess.  Though this number seems reasonable, it's possible this number could have shown up by pure chance.  We'll next produce a confidence interval for the true population mean city MPG for cars from $1993$.  \n",
    "\n",
    "The following code uses the library $\\texttt{boot}$ to perform the random sampling (uniformly and with replacement) from the original data.  The same strategy that's discussed in Chapter Bootstrap is used here.  Sampling will happen over the indices of our original data.  The function $\\texttt{boot::boot}$ requires that we write a function that takes two arguments, the data to calculate our statistic of interest on and a vector of indices.  "
   ]
  },
  {
   "cell_type": "code",
   "execution_count": 11,
   "metadata": {},
   "outputs": [],
   "source": [
    "R = 999\n",
    "N = cars['mpgCity'].size\n",
    "mus = np.full((R, 1), np.nan)\n",
    "\n",
    "for r in range(R):\n",
    "    idx = np.random.choice(N, N)\n",
    "    mus[r] = minimize(ll, 10, args=(cars['mpgCity'][idx]), method=\"BFGS\")['x']\n",
    "    \n",
    "mu_p = np.percentile(mus, [10, 90])"
   ]
  },
  {
   "cell_type": "markdown",
   "metadata": {},
   "source": [
    "The standard conclusion from this goes as follows.  We are $90\\%$ confident that the true population mean city MPG for cars from $1993$ is between $21.9$ and $24.8$.\n",
    "\n",
    "Notice though this confidence interval carries with it a number of assumptions.  The same assumption from before is carried forward, that the true population mean does not vary by any other population characteristics.  Further, the bounds of the confidence interval are randomly produced.  If you re-run the code above, you'll likely get slightly different numbers.  So don't get too carried away with carrying decimal places, $2$ is a good general policy."
   ]
  },
  {
   "cell_type": "code",
   "execution_count": 15,
   "metadata": {},
   "outputs": [
    {
     "data": {
      "text/plain": [
       "<matplotlib.axes._subplots.AxesSubplot at 0x1258c62e8>"
      ]
     },
     "execution_count": 15,
     "metadata": {},
     "output_type": "execute_result"
    },
    {
     "data": {
      "image/png": "[encoded data removed]",
      "text/plain": [
       "<Figure size 432x288 with 1 Axes>"
      ]
     },
     "metadata": {
      "needs_background": "light"
     },
     "output_type": "display_data"
    }
   ],
   "source": [
    "bp.density(mus)\n",
    "bp.rug(mu_p, color='black')\n",
    "bp.rug(np.percentile(mus, [50]))\n",
    "bp.labels(x='Mean MPG city', y='Density', size=18)"
   ]
  },
  {
   "cell_type": "markdown",
   "metadata": {},
   "source": [
    "When interpreting the estimated mean, and the lower and upper bound of the confidence interval, it's important to remember that these statistics are referring to the population mean, not specific data points.  Specifically, it is **not** the case that $90\\%$ of all observed data (within this sample nor any future sample) will fall within this interval.  \n",
    "\n",
    "A strict interpretation of this interval says that $90\\%$ of an infinite collection of confidence intervals, calculated by and your infinite number of friends, will contain the true population mean.  That is $90\\%$ of these (hypothetical) confidence intervals will capture the true population mean.  This indeed suggests that $10\\%$ of the hypothetical confidence intervals will not capture the true population mean.\n",
    "\n",
    "This subtle difference highlights the difference between estimating a population mean, for which it is reasonable to assume a Normal distribution, and fitting a distribution (via its parameters) to a dataset."
   ]
  }
 ],
 "metadata": {
  "kernelspec": {
   "display_name": "Python 3",
   "language": "python",
   "name": "python3"
  },
  "language_info": {
   "codemirror_mode": {
    "name": "ipython",
    "version": 3
   },
   "file_extension": ".py",
   "mimetype": "text/x-python",
   "name": "python",
   "nbconvert_exporter": "python",
   "pygments_lexer": "ipython3",
   "version": "3.7.3"
  },
  "toc": {
   "base_numbering": 1,
   "nav_menu": {},
   "number_sections": true,
   "sideBar": true,
   "skip_h1_title": false,
   "title_cell": "Table of Contents",
   "title_sidebar": "Contents",
   "toc_cell": false,
   "toc_position": {},
   "toc_section_display": true,
   "toc_window_display": false
  }
 },
 "nbformat": 4,
 "nbformat_minor": 2
}
