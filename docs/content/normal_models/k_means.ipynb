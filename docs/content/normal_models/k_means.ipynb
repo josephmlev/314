{
 "cells": [
  {
   "cell_type": "markdown",
   "metadata": {},
   "source": [
    "# $k$ Means\n",
    "\n",
    "This section is the immediate extension from two means to $k$ means. \n",
    "\n",
    "The name ANOVA is sometimes used in this setting. ANOVA stands for analysis of analysis of variance, but should be more literally translated to comparing $k$ levels' means.  The reason behind the name ANOVA is that often, but not in this class, the variation amongst the groups compared to variation within the groups gives a reasonable decision rule for determinging when means by level are different.\n",
    "\n",
    "We continue to work with the dataset $\\texttt{carnivora}$.  Now we'll estimate a mean for $k = 4$ of the levels of the categorical variable $\\texttt{Family}$: Canidae, Felidae, Mustelidae, and Viverridae. For the body weight data, $\\texttt{SW}$, we assume\n",
    "\n",
    "$$ Y_1, \\ldots, Y_N \\sim_{iid} \\text{Normal}(\\mu, \\sigma^2) \\\\\n",
    "\\mu = \\beta_0 + \\beta_1 * Felidae + \\beta_2 * Mustelidae + \\beta_3 * Viverridae.$$\n",
    "\n",
    "Let's plot our data and add the mean as a new layer, now that we're getting good at plotting.  The code below first carefully removes missing data and filters our dataset down to the levels of interest."
   ]
  },
  {
   "cell_type": "code",
   "execution_count": 40,
   "metadata": {},
   "outputs": [],
   "source": [
    "import numpy as np\n",
    "import pandas as pd\n",
    "import bplot as bp\n",
    "from scipy.optimize import minimize\n",
    "from scipy.stats import norm as normal\n",
    "import patsy\n",
    "\n",
    "bp.LaTeX()"
   ]
  },
  {
   "cell_type": "code",
   "execution_count": 2,
   "metadata": {},
   "outputs": [],
   "source": [
    "carnivora = pd.read_csv(\"https://raw.githubusercontent.com/roualdes/data/master/carnivora.csv\")\n",
    "carn = carnivora[carnivora['Family'].isin([\"Canidae\", \"Felidae\", \"Mustelidae\", \"Viverridae\"])]"
   ]
  },
  {
   "cell_type": "code",
   "execution_count": 14,
   "metadata": {},
   "outputs": [
    {
     "data": {
      "text/plain": [
       "<matplotlib.axes._subplots.AxesSubplot at 0x119b4eb70>"
      ]
     },
     "execution_count": 14,
     "metadata": {},
     "output_type": "execute_result"
    },
    {
     "data": {
      "image/png": "[encoded data removed]",
      "text/plain": [
       "<Figure size 432x288 with 1 Axes>"
      ]
     },
     "metadata": {
      "needs_background": "light"
     },
     "output_type": "display_data"
    }
   ],
   "source": [
    "for i, (name, gdf) in enumerate(carn.groupby(\"Family\")):\n",
    "    y = gdf['SW']\n",
    "    bp.jitter(np.repeat(i, y.size), y, jitter_y=0)\n",
    "    bp.point(np.asarray([i]), y.mean(), color=bp.cat_color[1], size=1.5)\n",
    "    \n",
    "families = np.unique(carn['Family'])\n",
    "bp.xticks(range(len(families)), labels=families, size=14)\n",
    "bp.labels(x='Family', y='Body weight (kg)', size=18)"
   ]
  },
  {
   "cell_type": "markdown",
   "metadata": {},
   "source": [
    "From the plot above, it seems like Felidae has the greatest mean weight, but it also seems like there is the most variation in Felidae.\n",
    "\n",
    "### Example\n",
    "Adapt the code above, along with the violin plot code from the two means section to make a violin plot for the four families above.\n",
    "\n",
    "Code to fit our model above looks quite similar to our previous efforts in Sections Simple Linear Regression and Two Means."
   ]
  },
  {
   "cell_type": "code",
   "execution_count": 23,
   "metadata": {},
   "outputs": [],
   "source": [
    "def ll(beta, yX):\n",
    "    y = yX[:, 0]\n",
    "    X = yX[:, -4:]\n",
    "    yhat = np.full(y.shape, np.nan)\n",
    "    for r in range(X.shape[0]):\n",
    "        yhat[r] = np.sum(beta * X[r,:])\n",
    "    d = y - yhat\n",
    "    return np.sum(d * d)\n",
    "\n",
    "pX = patsy.dmatrix(\"~ C(Family)\", data=carn)\n",
    "yX = np.c_[carn[\"SW\"], np.asarray(pX)]\n",
    "\n",
    "beta = minimize(ll, normal.rvs(loc=10, size=4), args=(yX))[\"x\"]"
   ]
  },
  {
   "cell_type": "markdown",
   "metadata": {},
   "source": [
    "The same trick is taking place in our model.  The \"intercept\" is really the first level's mean, Canidae.  Each coefficient after that is a level-specific offset relative to Canidae's mean.  To find, say, Mustelidae's mean, you have to add $\\hat{\\beta}_0$ to $\\hat{\\beta}_2$."
   ]
  },
  {
   "cell_type": "code",
   "execution_count": 28,
   "metadata": {},
   "outputs": [
    {
     "data": {
      "text/plain": [
       "4.596"
      ]
     },
     "execution_count": 28,
     "metadata": {},
     "output_type": "execute_result"
    }
   ],
   "source": [
    "np.round(beta[0] + beta[2], 3)"
   ]
  },
  {
   "cell_type": "markdown",
   "metadata": {},
   "source": [
    "These estimates are still no different than group means.  Don't be discouraged, we are building to more complex models than group means.  Nonetheless, here's the empirical evidence."
   ]
  },
  {
   "cell_type": "code",
   "execution_count": 27,
   "metadata": {},
   "outputs": [
    {
     "data": {
      "text/plain": [
       "Family\n",
       "Canidae        9.511111\n",
       "Felidae       36.458947\n",
       "Mustelidae     4.595667\n",
       "Viverridae     2.811250\n",
       "Name: SW, dtype: float64"
      ]
     },
     "execution_count": 27,
     "metadata": {},
     "output_type": "execute_result"
    }
   ],
   "source": [
    "(carn\n",
    " .groupby(\"Family\")\n",
    " [\"SW\"]\n",
    " .agg(\"mean\"))"
   ]
  },
  {
   "cell_type": "markdown",
   "metadata": {},
   "source": [
    "Quantifying uncertainty in our estimates is carried out with the bootstrap method."
   ]
  },
  {
   "cell_type": "code",
   "execution_count": 55,
   "metadata": {},
   "outputs": [
    {
     "name": "stderr",
     "output_type": "stream",
     "text": [
      "/Users/ez/venvs/py3/lib/python3.7/site-packages/scipy/optimize/optimize.py:1046: RuntimeWarning: divide by zero encountered in double_scalars\n",
      "  rhok = 1.0 / (numpy.dot(yk, sk))\n",
      "/Users/ez/venvs/py3/lib/python3.7/site-packages/scipy/optimize/optimize.py:1046: RuntimeWarning: divide by zero encountered in double_scalars\n",
      "  rhok = 1.0 / (numpy.dot(yk, sk))\n",
      "/Users/ez/venvs/py3/lib/python3.7/site-packages/scipy/optimize/optimize.py:1046: RuntimeWarning: divide by zero encountered in double_scalars\n",
      "  rhok = 1.0 / (numpy.dot(yk, sk))\n",
      "/Users/ez/venvs/py3/lib/python3.7/site-packages/scipy/optimize/optimize.py:1046: RuntimeWarning: divide by zero encountered in double_scalars\n",
      "  rhok = 1.0 / (numpy.dot(yk, sk))\n",
      "/Users/ez/venvs/py3/lib/python3.7/site-packages/scipy/optimize/optimize.py:1046: RuntimeWarning: divide by zero encountered in double_scalars\n",
      "  rhok = 1.0 / (numpy.dot(yk, sk))\n",
      "/Users/ez/venvs/py3/lib/python3.7/site-packages/scipy/optimize/optimize.py:1046: RuntimeWarning: divide by zero encountered in double_scalars\n",
      "  rhok = 1.0 / (numpy.dot(yk, sk))\n"
     ]
    }
   ],
   "source": [
    "N = carn['SW'].size\n",
    "R = 999\n",
    "betas = np.full((R, 4), np.nan)\n",
    "\n",
    "for r in range(R):\n",
    "    idx = np.random.choice(N, N)\n",
    "    betas[r, :] = minimize(ll, normal.rvs(size=4), args=(yX[idx, :]))[\"x\"]"
   ]
  },
  {
   "cell_type": "code",
   "execution_count": 56,
   "metadata": {},
   "outputs": [],
   "source": [
    "beta_p = np.percentile(betas, [10, 90], axis=0)"
   ]
  },
  {
   "cell_type": "code",
   "execution_count": 57,
   "metadata": {},
   "outputs": [
    {
     "data": {
      "text/plain": [
       "<matplotlib.axes._subplots.AxesSubplot at 0x11eb6a9b0>"
      ]
     },
     "execution_count": 57,
     "metadata": {},
     "output_type": "execute_result"
    },
    {
     "data": {
      "image/png": "[encoded data removed]",
      "text/plain": [
       "<Figure size 432x288 with 4 Axes>"
      ]
     },
     "metadata": {
      "needs_background": "light"
     },
     "output_type": "display_data"
    }
   ],
   "source": [
    "axs = bp.subplots(1, 4)\n",
    "\n",
    "ylab = lambda i: \"Density\" if i < 1 else \"\"\n",
    "xlab = lambda i: f\"$\\\\beta_{ {i} }$\"\n",
    "for a in range(len(axs)):\n",
    "    bp.current_axis(axs[a])\n",
    "    bp.density(betas[:, a])\n",
    "    bp.percentile_h(betas[:, a], y=0)\n",
    "    bp.rug(beta_p[:, a])\n",
    "    bp.labels(x=xlab(a), y=ylab(a), size=18)\n",
    "    \n",
    "bp.tight_layout()"
   ]
  },
  {
   "cell_type": "code",
   "execution_count": 58,
   "metadata": {},
   "outputs": [
    {
     "data": {
      "text/plain": [
       "array([[ 6.99005835, 14.09121455, -7.75871771, -9.32626222],\n",
       "       [12.17099575, 41.13387438, -1.93307932, -4.08192669]])"
      ]
     },
     "execution_count": 58,
     "metadata": {},
     "output_type": "execute_result"
    }
   ],
   "source": [
    "beta_p"
   ]
  }
 ],
 "metadata": {
  "kernelspec": {
   "display_name": "Python 3",
   "language": "python",
   "name": "python3"
  },
  "language_info": {
   "codemirror_mode": {
    "name": "ipython",
    "version": 3
   },
   "file_extension": ".py",
   "mimetype": "text/x-python",
   "name": "python",
   "nbconvert_exporter": "python",
   "pygments_lexer": "ipython3",
   "version": "3.7.3"
  }
 },
 "nbformat": 4,
 "nbformat_minor": 2
}
