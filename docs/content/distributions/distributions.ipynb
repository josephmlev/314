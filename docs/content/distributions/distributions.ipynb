{
 "cells": [
  {
   "cell_type": "markdown",
   "metadata": {},
   "source": [
    "# Distributions\n",
    "\n",
    "## Introduction\n",
    "\n",
    "This section will begin to formalize the connection between random variables, probability density functions, and population parameters.  We generally use language like the random variable $X$ follows a named distribution, which has a probability density function defined by, possibly many, parameters.  Hence, the word distribution in some sense is just the name the binds random variables, probability density functions, and parameters together.\n",
    "\n",
    "## Warm Up\n",
    "\n",
    "Before we look at two common named population parameters, let's introduce a few new words that we'll use throughout this section.\n",
    "\n",
    "- **support**: The set of values a random variable might assume, and equally the set of values a random variable's probability density function is defined over.  \n",
    "For example, the support of $X \\sim \\text{Uniform}(1, 6)$ is the integers from $1$ to $6$ inclusive.\n",
    "- **expected value**: A population-level measure of center for a random variable.  \n",
    "For example, $3.5$ for a fair die.\n",
    "- **variance**: A population-level measure of variability for a random variable.\n",
    "- **standard deviation**: The square root of the variance.\n",
    "\n",
    "\n",
    "## Random Variables\n",
    "\n",
    "A random variable is a function from a set of all possible outcomes,\n",
    "named the sample space, to exactly one real number.  We often\n",
    "assume that random variables follow named distributions, e.g. $Y \\sim\n",
    "\\text{Uniform}(a, b)$ where $a < b$, or $X \\sim \\text{Bernoulli}(p)$ where $p\n",
    "\\in [0, 1]$.  Named distributions are common because they often\n",
    "abstractly represent processes in the world worth measuring.  Based on\n",
    "the outcome of the process of interest, we calculate probabilities\n",
    "for a random variable that follows a specific distribution.\n",
    "\n",
    "The Uniform distribution represents well rolling die.  Much of the\n",
    "probabilities surrounding gambling are found by assuming random\n",
    "variables follow various Uniform distributions.  Ignoring payouts, roulette is essentially a random variable $X \\sim \\text{Uniform}(1, 36)$.\n",
    "\n",
    "The Bernoulli distirbution represents well any process that has two\n",
    "mutually exclusive outcomes with a fixed probability of \"success.\"\n",
    "Anything from unfair coins to the outcomes of elections are modeled\n",
    "with Bernoulli random variables.\n",
    "\n",
    "These are not the only random variables, nor are random variables\n",
    "restricted to countable outcomes.  Discrete random variables are\n",
    "restrictued to countable outcomes and continous random variables are\n",
    "the extension to uncountable outcomes.  Discrete random variables take\n",
    "on non-negative mass or probability at single points in the\n",
    "support of the random variable, and thus have probability mass\n",
    "functions.  On the other hand, continuous random variables have\n",
    "probability density functions, since zero mass occurs at distinct\n",
    "points in the support of the random variable.  These lecture notes\n",
    "will only use the name probability density functions, even when\n",
    "referring to discrete random variables.\n",
    "\n",
    "Before providing a long list of some other common named distributions, we will discuss the mean and variance of a random variable.  These quantities describe a measure of center and a measure of spread of random variables.  Recall, statistics uses data to estimate population parameters.  The mean and variance of a random variable are two of the more commonly estimated quantities that describe a population.  With a data set in hand, the sample mean (add up all the data divide by the number of data points) is an approximation of the mean of a random variable.  With a data set in hand, the measure of spread called the variance is an approximation of the variance of a random variable."
   ]
  },
  {
   "cell_type": "code",
   "execution_count": 2,
   "metadata": {},
   "outputs": [],
   "source": [
    "import numpy as np\n",
    "import pandas as pd\n",
    "import bplot as bp\n",
    "bp.LaTeX()"
   ]
  },
  {
   "cell_type": "markdown",
   "metadata": {},
   "source": [
    "## Mean of a Random Variable"
   ]
  },
  {
   "cell_type": "markdown",
   "metadata": {},
   "source": [
    "Think back to our discrete random variable that represented rolling a\n",
    "single fair die, $X \\sim \\text{Uniform}(1, 6)$.  We formalized the\n",
    "mathematical notation $P(X \\in \\{2,4,6\\}) = 1/2$ by imagining\n",
    "rolling the same fair die an infinite number of times and dividing the\n",
    "number of times either $2, 4$, or $6$ turns up by the total number of\n",
    "rolls.  Next, we will formalize, in a similar notion, the idea of the mean of a random variable.\n",
    "\n",
    "The expected value describes a measure of center of a random\n",
    "variable.  This is related to but not exactly, the same thing as, the sample\n",
    "mean where you add up all the numbers and divide by how every many\n",
    "numbers there are.  The expected value does not describe data.  The expected value instead describes a measure of\n",
    "center of the probaility density function for a random variable.\n",
    "\n",
    "For the discrete random variable $X \\sim \\text{Uniform}(1, 6)$ the probability density function is displayed below.  More generally, as uniform implies sameness, mathematically the probability density function is the same for all arguments\n",
    "\n",
    "$$uniform(x|a, b) = \\frac{1}{b - a + 1} $$\n",
    "\n",
    "for $x \\in \\\\{a, a+1, \\ldots, b-1, b\\\\}$.  Notice that the random variable is only defined for integer values between $a$ and $b$ inclusive.  These values make up the **support** of the random variable. Think of the support as the values for which the probability density function is positive."
   ]
  },
  {
   "cell_type": "code",
   "execution_count": 3,
   "metadata": {},
   "outputs": [
    {
     "data": {
      "text/plain": [
       "<matplotlib.axes._subplots.AxesSubplot at 0x11f3db080>"
      ]
     },
     "execution_count": 3,
     "metadata": {},
     "output_type": "execute_result"
    },
    {
     "data": {
      "image/png": "[encoded data removed]",
      "text/plain": [
       "<Figure size 432x288 with 1 Axes>"
      ]
     },
     "metadata": {
      "needs_background": "light"
     },
     "output_type": "display_data"
    }
   ],
   "source": [
    "x = np.arange(1, 7)\n",
    "fx = 1 / (6 - 1 + 1)\n",
    "df = pd.DataFrame({'x': x, 'f': fx})\n",
    "\n",
    "bp.point(df['x'], df['f'])\n",
    "bp.labels(x='$x$', y='uniform$(x|1,6)$', size=18)"
   ]
  },
  {
   "cell_type": "markdown",
   "metadata": {},
   "source": [
    "### Example"
   ]
  },
  {
   "cell_type": "markdown",
   "metadata": {},
   "source": [
    "Since population mean describes a measure of center, and the probability density function takes on the same value $1/6$ at each value in the support $\\{1, 2, 3, 4, 5, 6\\}$, the expected value must be the value in the middle of the support, namely $3.5$.  Formally, we read $\\mathbb{E}(X) = 3.5$ as the **expected value** of the random variable $X$ is $3.5$.  As the sample mean is to data, the expected value is to a random variable.  \n",
    "\n",
    "More formally, the expected value of $X \\sim \\text{Uniform}(a, b)$ is\n",
    "\n",
    "$$ \\mathbb{E}(X) = \\sum_{x = a}^b x * \\text{uniform}(x|a,b) = \\sum_{x = a}^b x * \\frac{1}{b - a + 1}. $$\n",
    "\n",
    "In R, we can apply this formula to $X \\sim \\text{Uniform}(1,6)$,"
   ]
  },
  {
   "cell_type": "code",
   "execution_count": 4,
   "metadata": {},
   "outputs": [
    {
     "data": {
      "text/plain": [
       "3.5"
      ]
     },
     "execution_count": 4,
     "metadata": {},
     "output_type": "execute_result"
    }
   ],
   "source": [
    "a = 1; b = 6\n",
    "x = np.arange(1, 6 + 1)\n",
    "fx = 1 / (b - a + 1)\n",
    "sum(x * fx) # E(X)"
   ]
  },
  {
   "cell_type": "markdown",
   "metadata": {},
   "source": [
    "Notice that the we are simply weighting each value in the support of the random variable by the probability density function evaluated at each value in the support.  The expected value is to be thought of as the value you'd get by taking the sample mean of the outcomes produced by infinitely rolling a fair die.  Let's approximate this process in R,"
   ]
  },
  {
   "cell_type": "code",
   "execution_count": 5,
   "metadata": {},
   "outputs": [
    {
     "data": {
      "text/plain": [
       "<matplotlib.axes._subplots.AxesSubplot at 0x12152bba8>"
      ]
     },
     "execution_count": 5,
     "metadata": {},
     "output_type": "execute_result"
    },
    {
     "data": {
      "image/png": "[encoded data removed]",
      "text/plain": [
       "<Figure size 432x288 with 1 Axes>"
      ]
     },
     "metadata": {
      "needs_background": "light"
     },
     "output_type": "display_data"
    }
   ],
   "source": [
    "N = int(1e3)\n",
    "die = np.random.choice(x, size=N)\n",
    "flips = np.arange(1, N + 1)\n",
    "df = pd.DataFrame({'flip': flips,\n",
    "                   'm': np.cumsum(die)/flips})\n",
    "\n",
    "bp.line(df['flip'], df['m'])\n",
    "bp.line_h(y=3.5, color='black')\n",
    "bp.labels(x='flip', y='$\\hat{E}(X)$', size=18)"
   ]
  },
  {
   "cell_type": "markdown",
   "metadata": {},
   "source": [
    "**DEFINITION**.  Let $X \\sim F$, where $F$ is the name of a distribution. The expected value of a random variable is\n",
    "\n",
    "$$ \\mathbb{E}(X) = \\int_{\\mathbb{R}} x\\,d\\text{F}(x).$$\n",
    "\n",
    "The fancy integral here is just to remind you that for discrete random variables, the integral becomes a sum, as above, and for continuous random variables the integral stays.  In both cases, the sum/integral ranges over the support of the random variable and the summand/integrand is the product of $x$ and the probability density function."
   ]
  },
  {
   "cell_type": "markdown",
   "metadata": {},
   "source": [
    "## Variance and Standard Deviation of a Random Variable"
   ]
  },
  {
   "cell_type": "markdown",
   "metadata": {},
   "source": [
    "Where the mean is a measure of center of a random variable, the variance is a measure of spread.  Specifically, the variance measures squared distance from the mean, again weighted by the probability density function.  \n",
    "\n",
    "**DEFINITION**.  Let $X \\sim F$, where $F$ is the name of a distribution function with mean $\\mu = \\mathbb{E}(X)$, the variance of $X$ is \n",
    "\n",
    "$$ \\mathbb{V}(X) = \\int_{\\mathbb{R}} (x - \\mathbb{E}(X))^2 \\, dF(x).$$\n",
    "\n",
    "**DEFINITION**. Let $X \\sim F$, where $F$ is the name of a distribution function with variance $\\mathbb{V}(X)$, the standard deviation of $X$ is\n",
    "\n",
    "$$ \\mathbb{D}(X) = \\sqrt{\\mathbb{V}(X)}.$$\n",
    "\n",
    "The standard deviation is another measure of spread, like the variance, but the standard deviation is in the same units as the mean."
   ]
  },
  {
   "cell_type": "markdown",
   "metadata": {},
   "source": [
    "### Example\n",
    "\n",
    "In Python, we can apply this formula to $X \\sim \\text{Uniform}(1,6)$ by first calculating the expected value $\\mathbb{E}(X)$,"
   ]
  },
  {
   "cell_type": "code",
   "execution_count": 7,
   "metadata": {},
   "outputs": [
    {
     "data": {
      "text/plain": [
       "1.707825127659933"
      ]
     },
     "execution_count": 7,
     "metadata": {},
     "output_type": "execute_result"
    }
   ],
   "source": [
    "a = 1; b = 6\n",
    "x = np.arange(1, 6 + 1)\n",
    "fx = 1 / (b - a + 1)\n",
    "m = sum(x * fx)\n",
    "v = sum(np.power(x - m, 2) * fx)\n",
    "np.sqrt(v)"
   ]
  },
  {
   "cell_type": "markdown",
   "metadata": {},
   "source": [
    "### Example\n",
    "\n",
    "Assume $X \\sim \\text{Bernoulli}(p)$.  If you work through the math for the variance, then you end up at an equation that we can almost make sense of.\n",
    "\n",
    "$$ \\mathbb{V}(X) = p(1 - p) $$\n",
    "\n",
    "Let's plot this."
   ]
  },
  {
   "cell_type": "code",
   "execution_count": 8,
   "metadata": {},
   "outputs": [
    {
     "data": {
      "text/plain": [
       "<matplotlib.axes._subplots.AxesSubplot at 0x1216598d0>"
      ]
     },
     "execution_count": 8,
     "metadata": {},
     "output_type": "execute_result"
    },
    {
     "data": {
      "image/png": "[encoded data removed]",
      "text/plain": [
       "<Figure size 432x288 with 1 Axes>"
      ]
     },
     "metadata": {
      "needs_background": "light"
     },
     "output_type": "display_data"
    }
   ],
   "source": [
    "p = np.linspace(0, 1, 101)\n",
    "fp = p * (1 - p)\n",
    "bp.curve(p, fp)\n",
    "bp.labels(x='$p$', y='$f(p)$', size=18)"
   ]
  },
  {
   "cell_type": "markdown",
   "metadata": {},
   "source": [
    "We can infer that the variance is maximized at p = 0.5; the math isn't too difficult, try.  This says that for a coin has the most variability (e.g. bounces back and forth between heads and tails the most) when it is a fair coin.  This makes sense.  An extremely biased coin, say $p = 0.001$ will very often come up tails, and rarely fall on heads."
   ]
  },
  {
   "cell_type": "markdown",
   "metadata": {},
   "source": [
    "It takes some time to understand the fancy integral notation above.  There are a few ideas that you should keep in mind when working with the definitions of $\\mathbb{E}(X)$ and $\\mathbb{V}(X)$:\n",
    "\n",
    "1. if the random variable $X$ is discrete then the integral is really a sum,\n",
    "2. the summand/integrand is defined as the product of the function that shows up in front of $dF(x)$ times the probability density function of $X$, and\n",
    "3. the summand/integrand is evaluated at each value in the support of the random variable $X$."
   ]
  },
  {
   "cell_type": "markdown",
   "metadata": {},
   "source": [
    "# Common Distributions"
   ]
  },
  {
   "cell_type": "markdown",
   "metadata": {},
   "source": [
    "There are a few moving pieces to keep in mind while scanning or\n",
    "referencing the list of distributions below.\n",
    "\n",
    "1. Each distribution presented is a generally accepted statistical\n",
    "  abstraction of a common process in the world.  Different sets of the\n",
    "  real numbers $\\mathbb{R}$ will support different real world\n",
    "  processes.  For instance, when measuring time until an event\n",
    "  (Exponential), only positively valued real numbers are relevant.\n",
    "  When measuring counting events (Poisson), only positive integers are\n",
    "  relevant.  This idea is known as the **support** of the probability\n",
    "  density function.  The support describes the set of possible values\n",
    "  a random variable might take on.\n",
    "\n",
    "2. The variables following the pipe in the function signature are\n",
    "   generally referred to as parameters.  For instance, $a$ and $b$ of\n",
    "   the uniform distribution define the support of the random variable.\n",
    "   For a discrete uniform random variable meant to describe the\n",
    "   process of rolling a die, $a = 1$ and $b = 6$.  These parameters\n",
    "   constitue some, but not all, of the population parameters that are\n",
    "   estimated from a sample.  The parameter $\\beta$ in the Exponential\n",
    "   distribution describes the rate at which events occur in time or space.\n",
    "\n",
    "3. These lecture notes focus on the likelihood function as a means to\n",
    "   estimate population parameters from a sample.  This method will\n",
    "   work simply for any probability density function who's\n",
    "   support does not depend on the parameters.  However, the maximum\n",
    "   likelihood estimator for the uniform distribution will take more\n",
    "   careful thought than it will direct application of calculus.\n",
    "\n",
    "## Discrete Distributions\n",
    "\n",
    "### Uniform\n",
    "\n",
    "For $X \\sim \\text{Uniform}(a, b)$ where $a < b$, $X$ has probability\n",
    "density function\n",
    "\n",
    "$$ \\text{uniform}(x | a, b) = \\frac{1}{b - a + 1} $$\n",
    "\n",
    "for $x \\in \\\\{a, a+1, \\ldots, b - 1, b \\\\}$.\n",
    "\n",
    "$$ \\mathbb{E}(X) = \\frac{b+a}{2} \\quad \\text{ and } \\quad \\mathbb{V}(X) = \\frac{(b - a + 1)^2 - 1}{12}$$\n",
    "\n",
    "### Bernoulli\n",
    "\n",
    "For $X \\sim \\text{Bernoulli}(p)$ where $p \\in [0, 1]$, $X$ has\n",
    "probability density function\n",
    "\n",
    "$$ \\text{bernoulli}(x | p) = p^x (1 - p)^{1 - x} $$\n",
    "\n",
    "for $x \\in \\\\{0, 1\\\\}$.\n",
    "\n",
    "$$ \\mathbb{E}(X) = p \\quad \\text{ and } \\quad \\mathbb{V}(X) = p(1 - p)$$\n",
    "\n",
    "### Geometric\n",
    "\n",
    "For $X \\sim \\text{Geometric}(p)$ where $p \\in [0, 1]$, $X$ has\n",
    "probability density function\n",
    "\n",
    "$$ \\text{geometric}(x | p) = p (1 - p)^{x - 1} $$\n",
    "\n",
    "for $x \\in \\\\{1, 2, \\ldots \\\\}$.\n",
    "\n",
    "$$ \\mathbb{E}(X) = 1/p \\quad \\text{ and } \\quad \\mathbb{V}(X) = \\frac{1 - p}{p^2}$$\n",
    "\n",
    "### Binomial\n",
    "\n",
    "For $X \\sim \\text{Binomial}(K, p)$ where $K \\in \\mathbb{N} \\\\\n",
    "\\\\{0\\\\}$ and $p \\in [0, 1]$, $X$ has probability density funciton\n",
    "\n",
    "$$ \\text{binomial}(x | K, p) = {K \\choose x} p^x (1 - p)^{K - x} $$\n",
    "\n",
    "for $x \\in \\\\{0, 1, \\ldots, K \\\\}$.\n",
    "\n",
    "$$ \\mathbb{E}(X) = Kp \\quad \\text{ and } \\quad \\mathbb{V}(X) = Kp(1 - p)$$\n",
    "\n",
    "### Poisson\n",
    "\n",
    "For $X \\sim \\text{Poisson}(\\lambda)$ where $\\lambda > 0$, $X$ has\n",
    "probability density function\n",
    "\n",
    "$$ \\text{poisson}(x | \\lambda) = \\frac{e^{-\\lambda}\\lambda^x}{x!}$$\n",
    "\n",
    "for $x \\in \\mathbb{N}$.\n",
    "\n",
    "$$ \\mathbb{E}(X) = \\lambda \\quad \\text{ and } \\quad \\mathbb{V}(X) = \\lambda $$\n",
    "\n",
    "## Continuous Distributions\n",
    "\n",
    "### Uniform\n",
    "\n",
    "For $X \\sim \\text{Uniform}(a, b)$ where $a < b$, $X$ has probability\n",
    "density function\n",
    "\n",
    "$$ \\text{uniform}(x | a, b) = \\frac{1}{b - a} $$\n",
    "\n",
    "for $x \\in [a, b]$.\n",
    "\n",
    "$$ \\mathbb{E}(X) = \\frac{b+a}{2} \\quad \\text{ and } \\quad \\mathbb{V}(X) = \\frac{(b - a)^2}{12}$$\n",
    "\n",
    "### Beta\n",
    "\n",
    "For $X \\sim \\text{Beta}(\\alpha, \\beta)$ where $\\alpha > 0$ and\n",
    "$\\beta > 0$, $X$ has probability density function\n",
    "\n",
    "$$ \\text{beta}(x | \\alpha, \\beta) = \\frac{\\Gamma(\\alpha +\n",
    "\\beta)}{\\Gamma(\\alpha)\\Gamma(\\beta)}x^{\\alpha - 1}(1 - x)^{\\beta -\n",
    "1}$$\n",
    "\n",
    "for $x \\in [0, 1]$.\n",
    "\n",
    "$$ \\mathbb{E}(X) = \\frac{\\alpha}{\\alpha + \\beta} \\quad \\text{ and } \\quad \\mathbb{V}(X) = \\frac{\\alpha\\beta}{(\\alpha + \\beta)^2(\\alpha + \\beta + 1)}$$\n",
    "\n",
    "\n",
    "### Exponential\n",
    "\n",
    "For $X \\sim \\text{Exponential}(\\beta)$ where $\\beta > 0$, $X$ has\n",
    "probability density function\n",
    "\n",
    "$$ \\text{exponential}(x | \\beta) = \\beta\\exp{ (-\\beta x) } $$\n",
    "\n",
    "for $x \\geq 0$.\n",
    "\n",
    "$$ \\mathbb{E}(X) = 1 / \\beta \\quad \\text{ and } \\quad \\mathbb{V}(X) = 1 / \\beta^2 $$\n",
    "\n",
    "### Gamma\n",
    "\n",
    "For $X \\sim \\text{Gamma}(\\alpha, \\beta)$ where $\\alpha > 0$ and\n",
    "$\\beta > 0$, $X$ has probability density function\n",
    "\n",
    "$$ \\text{gamma}(x | \\alpha, \\beta) =\n",
    "\\frac{\\beta^{\\alpha}}{\\Gamma(\\alpha)} x^{\\alpha - 1} \\exp{ (-\\beta x) } $$\n",
    "\n",
    "for $x \\geq 0$.\n",
    "\n",
    "$$ \\mathbb{E}(X) = \\alpha / \\beta \\quad \\text{ and } \\quad \\mathbb{V}(X) = \\alpha / \\beta^2 $$\n",
    "\n",
    "### Normal\n",
    "\n",
    "For $X \\sim \\text{Normal}(\\mu, \\sigma)$ where $\\mu \\in \\mathbb{R}$ and\n",
    "$\\sigma > 0$, $X$ has probability density function\n",
    "\n",
    "$$ \\text{normal}(x | \\mu, \\sigma) = (2\\sigma^2)^{-1/2} \\exp{ \\left(\n",
    "\\frac{-(x - \\mu)^2}{2\\sigma^2} \\right) }$$\n",
    "\n",
    "for $x \\in \\mathbb{R}$.\n",
    "\n",
    "$$ \\mathbb{E}(X) = \\mu \\quad \\text{ and } \\quad \\mathbb{V}(X) = \\sigma^2 $$\n",
    "\n",
    "### Student-t\n",
    "\n",
    "For $X \\sim \\text{StudentT}(\\nu, \\mu, \\sigma)$ where $\\nu > 0$, $\\mu\n",
    "\\in \\mathbb{R}$, and $\\sigma > 0$, $X$ has probability density\n",
    "function\n",
    "\n",
    "$$ \\text{studentT}(x | \\nu, \\mu, \\sigma) = \\frac{\\Gamma((\\nu + 1) /\n",
    "2)}{\\Gamma(\\nu/2) \\sqrt{\\nu\\pi\\sigma^2}} \\left( 1 +\n",
    "\\frac{1}{\\nu}\\left(\\frac{y - \\mu}{\\sigma}\\right)^2 \\right)^{-(\\nu+1)/2}$$\n",
    "\n",
    "for $x \\in \\mathbb{R}$.\n",
    "\n",
    "$$ \\mathbb{E}(X) = \\mu \\quad \\text{ and } \\quad \\mathbb{V}(X) = \\sigma^2 \\frac{\\nu}{\\nu - 2} $$"
   ]
  }
 ],
 "metadata": {
  "kernelspec": {
   "display_name": "Python 3",
   "language": "python",
   "name": "python3"
  },
  "language_info": {
   "codemirror_mode": {
    "name": "ipython",
    "version": 3
   },
   "file_extension": ".py",
   "mimetype": "text/x-python",
   "name": "python",
   "nbconvert_exporter": "python",
   "pygments_lexer": "ipython3",
   "version": "3.7.3"
  },
  "toc": {
   "base_numbering": 1,
   "nav_menu": {},
   "number_sections": true,
   "sideBar": true,
   "skip_h1_title": false,
   "title_cell": "Table of Contents",
   "title_sidebar": "Contents",
   "toc_cell": false,
   "toc_position": {},
   "toc_section_display": true,
   "toc_window_display": false
  }
 },
 "nbformat": 4,
 "nbformat_minor": 2
}
